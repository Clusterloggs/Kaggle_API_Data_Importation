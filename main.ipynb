{
 "cells": [
  {
   "cell_type": "code",
   "execution_count": 1,
   "metadata": {},
   "outputs": [
    {
     "ename": "SyntaxError",
     "evalue": "invalid syntax (1008033855.py, line 2)",
     "output_type": "error",
     "traceback": [
      "\u001b[1;36m  Cell \u001b[1;32mIn[1], line 2\u001b[1;36m\u001b[0m\n\u001b[1;33m    pip install kaggle\u001b[0m\n\u001b[1;37m        ^\u001b[0m\n\u001b[1;31mSyntaxError\u001b[0m\u001b[1;31m:\u001b[0m invalid syntax\n"
     ]
    }
   ],
   "source": [
    "# Install the kaggle packages \n",
    "pip install kaggle"
   ]
  },
  {
   "cell_type": "code",
   "execution_count": null,
   "metadata": {},
   "outputs": [],
   "source": [
    "import os\n",
    "\n",
    "# Define the path to the Kaggle API key file\n",
    "kaggle_config_path = os.path.expanduser(\"~/.kaggle/kaggle.json\")\n",
    "\n",
    "# Check if the kaggle.json file exists in the expected directory\n",
    "file_exists = os.path.exists(kaggle_config_path)\n",
    "\n",
    "# Print the result\n",
    "if file_exists:\n",
    "    print(\" Kaggle API key file (kaggle.json) is correctly placed at:\", kaggle_config_path)\n",
    "else:\n",
    "    print(\" Kaggle API key file not found. Please move kaggle.json to:\", kaggle_config_path)\n"
   ]
  },
  {
   "cell_type": "code",
   "execution_count": null,
   "metadata": {},
   "outputs": [],
   "source": [
    "from kaggle.api.kaggle_api_extended import KaggleApi\n",
    "\n",
    "# Initialize the Kaggle API\n",
    "api = KaggleApi()\n",
    "\n",
    "try:\n",
    "    # Authenticate using the stored kaggle.json file\n",
    "    api.authenticate()\n",
    "    print(\" Kaggle API authentication successful!\")\n",
    "\n",
    "except Exception as e:\n",
    "    print(\" Authentication failed. Please check if kaggle.json is correctly placed and configured.\")\n",
    "    print(\"Error details:\", str(e))\n"
   ]
  },
  {
   "cell_type": "code",
   "execution_count": null,
   "metadata": {},
   "outputs": [],
   "source": [
    "# Download dataset\n",
    "dataset_name = \"the name of the dataset can be otten from the data pae url link from kaggle site\"\n",
    "download_path = \"./\"  # Change this if you want to store it elsewhere\n",
    "\n",
    "api.dataset_download_files(dataset_name, path=download_path, unzip=True)\n",
    "\n",
    "print(\"Dataset downloaded successfully to:\", download_path)\n"
   ]
  }
 ],
 "metadata": {
  "kernelspec": {
   "display_name": "Python (pythonenv)",
   "language": "python",
   "name": "pythonenv"
  },
  "language_info": {
   "codemirror_mode": {
    "name": "ipython",
    "version": 3
   },
   "file_extension": ".py",
   "mimetype": "text/x-python",
   "name": "python",
   "nbconvert_exporter": "python",
   "pygments_lexer": "ipython3",
   "version": "3.12.4"
  }
 },
 "nbformat": 4,
 "nbformat_minor": 2
}
